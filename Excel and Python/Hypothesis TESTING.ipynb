{
 "cells": [
  {
   "cell_type": "code",
   "execution_count": 63,
   "id": "c7129d17",
   "metadata": {},
   "outputs": [],
   "source": [
    "import pandas as pd\n",
    "import statsmodels.api as sm\n",
    "import numpy as np"
   ]
  },
  {
   "cell_type": "raw",
   "id": "1aa12e0d",
   "metadata": {},
   "source": [
    "#HYPOTHESIS D\n",
    "Ho: Proportion of Domestic Students who use Cloud Deakin to meet new people is the same as international students\n",
    "H1: Proportion of Domestic Students who use Cloud Deakin to meet new people is different than International Students."
   ]
  },
  {
   "cell_type": "code",
   "execution_count": 71,
   "id": "e85bf44c",
   "metadata": {},
   "outputs": [],
   "source": [
    "m=pd.read_excel('C:/Users/god\\'s pride/Desktop/MIS779/dataset used/data all.xlsx','Sheet2')"
   ]
  },
  {
   "cell_type": "code",
   "execution_count": 49,
   "id": "4226ba5b",
   "metadata": {},
   "outputs": [],
   "source": [
    "m['new']=m['Q11.4: I met new people when using the CloudDeakin system']\n",
    "m['new']=m.new.replace({(1,2,3):'No',(4,5,6):'Yes'})"
   ]
  },
  {
   "cell_type": "code",
   "execution_count": 56,
   "id": "413c627c",
   "metadata": {},
   "outputs": [
    {
     "data": {
      "text/html": [
       "<div>\n",
       "<style scoped>\n",
       "    .dataframe tbody tr th:only-of-type {\n",
       "        vertical-align: middle;\n",
       "    }\n",
       "\n",
       "    .dataframe tbody tr th {\n",
       "        vertical-align: top;\n",
       "    }\n",
       "\n",
       "    .dataframe thead th {\n",
       "        text-align: right;\n",
       "    }\n",
       "</style>\n",
       "<table border=\"1\" class=\"dataframe\">\n",
       "  <thead>\n",
       "    <tr style=\"text-align: right;\">\n",
       "      <th>Domestic or International Student</th>\n",
       "      <th>A domestic student</th>\n",
       "      <th>An international student</th>\n",
       "    </tr>\n",
       "    <tr>\n",
       "      <th>new</th>\n",
       "      <th></th>\n",
       "      <th></th>\n",
       "    </tr>\n",
       "  </thead>\n",
       "  <tbody>\n",
       "    <tr>\n",
       "      <th>No</th>\n",
       "      <td>299</td>\n",
       "      <td>60</td>\n",
       "    </tr>\n",
       "    <tr>\n",
       "      <th>Yes</th>\n",
       "      <td>169</td>\n",
       "      <td>96</td>\n",
       "    </tr>\n",
       "  </tbody>\n",
       "</table>\n",
       "</div>"
      ],
      "text/plain": [
       "Domestic or International Student  A domestic student  \\\n",
       "new                                                     \n",
       "No                                                299   \n",
       "Yes                                               169   \n",
       "\n",
       "Domestic or International Student  An international student  \n",
       "new                                                          \n",
       "No                                                       60  \n",
       "Yes                                                      96  "
      ]
     },
     "execution_count": 56,
     "metadata": {},
     "output_type": "execute_result"
    }
   ],
   "source": [
    "crss=pd.crosstab(m['new'],m['Domestic or International Student'])\n",
    "crss"
   ]
  },
  {
   "cell_type": "code",
   "execution_count": 57,
   "id": "7b2d072d",
   "metadata": {},
   "outputs": [
    {
     "data": {
      "text/plain": [
       "0.6388888888888888"
      ]
     },
     "execution_count": 57,
     "metadata": {},
     "output_type": "execute_result"
    }
   ],
   "source": [
    "n=crss['A domestic student'].sum()\n",
    "prop=crss['A domestic student']['Yes']/n\n",
    "prop"
   ]
  },
  {
   "cell_type": "code",
   "execution_count": 60,
   "id": "95b7d52e",
   "metadata": {},
   "outputs": [
    {
     "data": {
      "text/plain": [
       "0.6153846153846154"
      ]
     },
     "execution_count": 60,
     "metadata": {},
     "output_type": "execute_result"
    }
   ],
   "source": [
    "n2=crss['An international student'].sum()\n",
    "prop2=crss['An international student']['Yes']/n2\n",
    "prop2"
   ]
  },
  {
   "cell_type": "code",
   "execution_count": 64,
   "id": "a45dd576",
   "metadata": {},
   "outputs": [],
   "source": [
    "se_domestic=np.sqrt(prop*(1-prop)/n)\n",
    "se_international=np.sqrt(prop2*(1-prop2)/n2)"
   ]
  },
  {
   "cell_type": "code",
   "execution_count": 65,
   "id": "d2b6e7ae",
   "metadata": {},
   "outputs": [],
   "source": [
    "se_diff=np.sqrt(se_domestic**2+se_international**2)"
   ]
  },
  {
   "cell_type": "code",
   "execution_count": 67,
   "id": "80090824",
   "metadata": {},
   "outputs": [],
   "source": [
    "d=prop2-prop"
   ]
  },
  {
   "cell_type": "code",
   "execution_count": 104,
   "id": "2e5d35cd",
   "metadata": {},
   "outputs": [
    {
     "data": {
      "text/plain": [
       "(-0.11138115872359677, 0.06437261171504993)"
      ]
     },
     "execution_count": 104,
     "metadata": {},
     "output_type": "execute_result"
    }
   ],
   "source": [
    "uci=d+1.96*(se_diff)\n",
    "lci=d-1.96*(se_diff)\n",
    "(lci,uci)"
   ]
  },
  {
   "cell_type": "code",
   "execution_count": null,
   "id": "a480f4af",
   "metadata": {},
   "outputs": [],
   "source": [
    "#Since, 0 lies in the above confidence interval \n",
    "#we can accept the null hypothesis "
   ]
  }
 ],
 "metadata": {
  "kernelspec": {
   "display_name": "Python 3",
   "language": "python",
   "name": "python3"
  },
  "language_info": {
   "codemirror_mode": {
    "name": "ipython",
    "version": 3
   },
   "file_extension": ".py",
   "mimetype": "text/x-python",
   "name": "python",
   "nbconvert_exporter": "python",
   "pygments_lexer": "ipython3",
   "version": "3.7.10"
  }
 },
 "nbformat": 4,
 "nbformat_minor": 5
}
